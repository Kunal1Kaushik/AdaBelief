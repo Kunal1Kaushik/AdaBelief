{
 "cells": [
  {
   "cell_type": "code",
   "execution_count": 2,
   "id": "e9681214",
   "metadata": {},
   "outputs": [],
   "source": [
    "# This notebook will compare results achieved with the Adam optimizer and the recently introduced AdaBelief optimizer!\n",
    "# We will perform binary text classification on imdb reviews!\n",
    "# The AdaBelief optimizer simultaneously achieves three goals: fast convergence as in adaptive\n",
    "# methods(eg. Adam), good generalization as in SGD, and training stability!"
   ]
  },
  {
   "cell_type": "code",
   "execution_count": 3,
   "id": "e99cad5e",
   "metadata": {},
   "outputs": [],
   "source": [
    "!pip install -q tensorflow_datasets "
   ]
  },
  {
   "cell_type": "code",
   "execution_count": 4,
   "id": "ed3b0b61",
   "metadata": {},
   "outputs": [],
   "source": [
    "import numpy as np\n",
    "\n",
    "import tensorflow_datasets as tfds\n",
    "import tensorflow as tf\n",
    "\n",
    "tfds.disable_progress_bar()"
   ]
  },
  {
   "cell_type": "code",
   "execution_count": 5,
   "id": "1006f3b4",
   "metadata": {},
   "outputs": [],
   "source": [
    "import matplotlib.pyplot as plt\n",
    "# function to plot graphs for loss/accuracy vs number of epochs\n",
    "def plot_graphs(history, metric):\n",
    "  plt.plot(history.history[metric])\n",
    "  plt.plot(history.history['val_'+metric], '')\n",
    "  plt.xlabel(\"Epochs\")\n",
    "  plt.ylabel(metric)\n",
    "  plt.legend([metric, 'val_'+metric])"
   ]
  },
  {
   "cell_type": "code",
   "execution_count": 6,
   "id": "44239f2a",
   "metadata": {},
   "outputs": [
    {
     "data": {
      "text/plain": [
       "(TensorSpec(shape=(), dtype=tf.string, name=None),\n",
       " TensorSpec(shape=(), dtype=tf.int64, name=None))"
      ]
     },
     "execution_count": 6,
     "metadata": {},
     "output_type": "execute_result"
    }
   ],
   "source": [
    "# load the imdb reviews dataset, make test and train sets\n",
    "dataset, info = tfds.load('imdb_reviews', with_info=True,\n",
    "                          as_supervised=True)\n",
    "train_dataset, test_dataset = dataset['train'], dataset['test']\n",
    "\n",
    "train_dataset.element_spec"
   ]
  },
  {
   "cell_type": "code",
   "execution_count": 7,
   "id": "9e1f6479",
   "metadata": {},
   "outputs": [
    {
     "name": "stdout",
     "output_type": "stream",
     "text": [
      "text:  b\"This was an absolutely terrible movie. Don't be lured in by Christopher Walken or Michael Ironside. Both are great actors, but this must simply be their worst role in history. Even their great acting could not redeem this movie's ridiculous storyline. This movie is an early nineties US propaganda piece. The most pathetic scenes were those when the Columbian rebels were making their cases for revolutions. Maria Conchita Alonso appeared phony, and her pseudo-love affair with Walken was nothing but a pathetic emotional plug in a movie that was devoid of any real meaning. I am disappointed that there are movies like this, ruining actor's like Christopher Walken's good name. I could barely sit through it.\"\n",
      "label:  0\n"
     ]
    }
   ],
   "source": [
    "for example, label in train_dataset.take(1):\n",
    "  print('text: ', example.numpy())\n",
    "  print('label: ', label.numpy())"
   ]
  },
  {
   "cell_type": "code",
   "execution_count": 8,
   "id": "98a86b08",
   "metadata": {},
   "outputs": [],
   "source": [
    "BUFFER_SIZE = 10000\n",
    "BATCH_SIZE = 64"
   ]
  },
  {
   "cell_type": "code",
   "execution_count": 9,
   "id": "18674c74",
   "metadata": {},
   "outputs": [],
   "source": [
    "train_dataset = train_dataset.shuffle(BUFFER_SIZE).batch(BATCH_SIZE).prefetch(tf.data.experimental.AUTOTUNE)\n",
    "# training data is shuffled and a batch size of 64 will be used\n",
    "test_dataset = test_dataset.batch(BATCH_SIZE).prefetch(tf.data.experimental.AUTOTUNE)"
   ]
  },
  {
   "cell_type": "code",
   "execution_count": 10,
   "id": "bd965d6e",
   "metadata": {},
   "outputs": [
    {
     "name": "stdout",
     "output_type": "stream",
     "text": [
      "texts:  [b\"This is one of the movies of Dev Anand who gave great yet distinct movies to Hindi movie industries such as Jewel thief and guide. The story is short (if you ask me what is the story), plot is simple- a brother seeks for his lost sister. Sister has joined the hippies who smoke from pot and chant Hare Rama hare Krishna. Yet the movie portrays few of the significant events that the world experienced in 70's.Hippie culture, their submission to drugs, freedom ,escaping duty, family, and adopting anything new such as eastern (which was new for whites) religion. They have been handled perfectly. Zeenat gave her best and Dev as usual was remarkable. Songs are the best used (unlike they are abused for the sake of having songs) in this movie. They have not been spoiled.One perfect example is 'Dekho o deewano...Ram ka naam badnam na karo'. Each word in the song is very philosophical and meaningful. The end is tragic but that is not the essence of the movie. Overall Devji who does believe in making different movies has been successful in showing what he wanted to show here. A must see to experience hippie culture and beautiful Nepal of 70's.\"\n",
      " b'Someone will have to explain to me why every film that features poor people and adopts a pseudo-gritty look is somehow seen as \"realistic\" by some people.<br /><br />I didn\\'t see anything realistic about the characters (although the actors did their best with really bad parts) or the situations. Instead, I saw a forced, self-conscious effort at being \"edgy\", \"gritty\" and \"down and dirty\".<br /><br />Sadly, it takes a lot more than hand-holding the camera without rhyme or reason and failing to light the film to achieve any of the above qualities in any significant way.<br /><br />It\\'s a sad commentary on the state of independent film distribution that the only films that see the inside of a movie theater are nowadays all carbon copies, with bad cinematography, non-existent camera direction and a lot of swearing striving to pass themselves as \"Art\".<br /><br />It\\'s little wonder that films like \"In the Bedroom\" or \"About Schmidt\" get such raves. I found them to be meandering and very average, but compared to the current slew of independent clones like \"Raising victor Vargas\" they are outright brilliant and inspired.<br /><br />A few years ago seeing an \"independent\" film meant that you would likely be treated to some originality and a lot of energy and care, and maybe a few technical glitches caused by the low budgets, nowadays, it means that chances are you\\'ll get yet another by-the-numbers, let\\'s-shake-the-camera-around-for-two-hours attempt at placating the lack of taste of independent distributors. And of course all that to serve characters and situations that are completely unreal and contrived.<br /><br />Is it any surprise that the independent marketplace has fewer and fewer surviving companies? Not at all when you see films like Raising Victor Vargas that do nothing but copy the worst of the films that preceded them.'\n",
      " b'I saw this film a couple of weeks ago, and it\\'s been stuck in my head ever since. It stars two spellbinding characters in what is unfortunately a mediocre documentary. To get the true story of the Beales, I had to wade through all of the DVD\\'s bonus material and commentaries and search the web.<br /><br />Although the Maysles and their fans (not to mention Edith and Edie themselves) bristle at the suggestion that this film is exploitative, this is exploitation in the truest sense of the word. Very little effort is every made to explain the Beales or how they came to the condition they were in - the Maysles approach seems to be to just turn the camera on and wait for Edith and Edie to say something outrageous. The sound, even on the Criterion re-release is poor and difficult to follow. Although I appreciate this film was made somewhat early in the history of documentary film, it\\'s ironic to compare it to Geraldo Rivera\\'s (!) far superior series on the sexual abuse of mentally retarded patients at Willowbrook State School in Staten Island from 1972, four years before Grey Gardens was shot.<br /><br />To paraphrase a review in the New Yorker, there were many things Edith and Edie needed in their lives, and a documentary wasn\\'t one of them.<br /><br />As for Edith and Edie, the thing I kept thinking while watching the film was \"where the hell is their family\"? They were living in dangerous, unhealthy, unsafe conditions. How is it that Jackie O, married to one of the richest men on Earth (or the wealthy Bouvier family themselves) couldn\\'t afford to get Edith and Edie a decent home? Or at the very least hire a part-time housekeeper or caregiver to come in and keep an eye on them both? It\\'s shameful and a lasting disgrace to the entire Bouvier family.<br /><br />Although this review may sound negative I would strongly recommend Grey Gardens to anyone who enjoys documentaries. Perhaps someday someone will come along and do a documentary about this documentary - bringing in the rich backstory (and afterstory) of the Beales and the whole subsection of Hamptons society in the 1970\\'s.']\n",
      "\n",
      "labels:  [1 0 1]\n"
     ]
    }
   ],
   "source": [
    "for example, label in train_dataset.take(1):\n",
    "  print('texts: ', example.numpy()[:3])\n",
    "  print()\n",
    "  print('labels: ', label.numpy()[:3])"
   ]
  },
  {
   "cell_type": "code",
   "execution_count": 11,
   "id": "8d0a5172",
   "metadata": {},
   "outputs": [],
   "source": [
    "VOCAB_SIZE=1000\n",
    "encoder = tf.keras.layers.experimental.preprocessing.TextVectorization(\n",
    "    max_tokens=VOCAB_SIZE) # the text vectorization layer creates an encoder to process raw data for input into the model\n",
    "encoder.adapt(train_dataset.map(lambda text, label: text)) # adapt layer sets the vocabulary"
   ]
  },
  {
   "cell_type": "code",
   "execution_count": 12,
   "id": "7ee772cb",
   "metadata": {},
   "outputs": [
    {
     "data": {
      "text/plain": [
       "array(['', '[UNK]', 'the', 'and', 'a', 'of', 'to', 'is', 'in', 'it', 'i',\n",
       "       'this', 'that', 'br', 'was', 'as', 'for', 'with', 'movie', 'but'],\n",
       "      dtype='<U14')"
      ]
     },
     "execution_count": 12,
     "metadata": {},
     "output_type": "execute_result"
    }
   ],
   "source": [
    "vocab = np.array(encoder.get_vocabulary())\n",
    "vocab[:20]"
   ]
  },
  {
   "cell_type": "code",
   "execution_count": 13,
   "id": "21b40ece",
   "metadata": {},
   "outputs": [
    {
     "data": {
      "text/plain": [
       "array([[ 11,   7,  29, ...,   0,   0,   0],\n",
       "       [283,  77,  26, ...,   0,   0,   0],\n",
       "       [ 10, 208,  11, ...,   0,   0,   0]], dtype=int64)"
      ]
     },
     "execution_count": 13,
     "metadata": {},
     "output_type": "execute_result"
    }
   ],
   "source": [
    "# we can now encode text into indices\n",
    "encoded_example = encoder(example)[:3].numpy() \n",
    "encoded_example\n",
    "# tensors are zero padded to match longest sequence in batch"
   ]
  },
  {
   "cell_type": "code",
   "execution_count": 15,
   "id": "9bd221ef",
   "metadata": {},
   "outputs": [],
   "source": [
    "# An Embedding layer followed by a bidirectional LSTM layer will be the basis of our keras model!\n",
    "model = tf.keras.Sequential([\n",
    "    encoder,\n",
    "    tf.keras.layers.Embedding(\n",
    "        input_dim=len(encoder.get_vocabulary()),\n",
    "        output_dim=64,\n",
    "        # Use masking to handle the variable sequence lengths\n",
    "        mask_zero=True),\n",
    "    tf.keras.layers.Bidirectional(tf.keras.layers.LSTM(64)),\n",
    "    tf.keras.layers.Dense(64, activation='relu'),\n",
    "    tf.keras.layers.Dense(1)\n",
    "])"
   ]
  },
  {
   "cell_type": "code",
   "execution_count": 19,
   "id": "ec85ac8c",
   "metadata": {},
   "outputs": [],
   "source": [
    "model.compile(loss=tf.keras.losses.BinaryCrossentropy(from_logits=True),\n",
    "              optimizer=tf.keras.optimizers.Adam(1e-4),\n",
    "              metrics=['accuracy'])\n",
    "# First we train our model with Adam!"
   ]
  },
  {
   "cell_type": "code",
   "execution_count": 20,
   "id": "dc01747d",
   "metadata": {},
   "outputs": [
    {
     "name": "stdout",
     "output_type": "stream",
     "text": [
      "Epoch 1/10\n",
      "391/391 [==============================] - 33s 83ms/step - loss: 0.6597 - accuracy: 0.5370 - val_loss: 0.5419 - val_accuracy: 0.6479\n",
      "Epoch 2/10\n",
      "391/391 [==============================] - 30s 78ms/step - loss: 0.4120 - accuracy: 0.8050 - val_loss: 0.3652 - val_accuracy: 0.8339\n",
      "Epoch 3/10\n",
      "391/391 [==============================] - 30s 77ms/step - loss: 0.3412 - accuracy: 0.8511 - val_loss: 0.3438 - val_accuracy: 0.8391\n",
      "Epoch 4/10\n",
      "391/391 [==============================] - 30s 77ms/step - loss: 0.3195 - accuracy: 0.8603 - val_loss: 0.3272 - val_accuracy: 0.8490\n",
      "Epoch 5/10\n",
      "391/391 [==============================] - 31s 78ms/step - loss: 0.3148 - accuracy: 0.8634 - val_loss: 0.3250 - val_accuracy: 0.8583\n",
      "Epoch 6/10\n",
      "391/391 [==============================] - 30s 78ms/step - loss: 0.3072 - accuracy: 0.8674 - val_loss: 0.3203 - val_accuracy: 0.8594\n",
      "Epoch 7/10\n",
      "391/391 [==============================] - 30s 77ms/step - loss: 0.3031 - accuracy: 0.8688 - val_loss: 0.3196 - val_accuracy: 0.8562\n",
      "Epoch 8/10\n",
      "391/391 [==============================] - 31s 79ms/step - loss: 0.3031 - accuracy: 0.8682 - val_loss: 0.3303 - val_accuracy: 0.8411\n",
      "Epoch 9/10\n",
      "391/391 [==============================] - 31s 79ms/step - loss: 0.3012 - accuracy: 0.8719 - val_loss: 0.3191 - val_accuracy: 0.8557\n",
      "Epoch 10/10\n",
      "391/391 [==============================] - 30s 78ms/step - loss: 0.2999 - accuracy: 0.8701 - val_loss: 0.3201 - val_accuracy: 0.8500\n"
     ]
    }
   ],
   "source": [
    "history = model.fit(train_dataset, epochs=10,\n",
    "                    validation_data=test_dataset, \n",
    "                    validation_steps=30)"
   ]
  },
  {
   "cell_type": "code",
   "execution_count": 21,
   "id": "62fecd9b",
   "metadata": {},
   "outputs": [
    {
     "name": "stdout",
     "output_type": "stream",
     "text": [
      "391/391 [==============================] - 14s 35ms/step - loss: 0.3168 - accuracy: 0.8518\n",
      "Test Loss: 0.3167639970779419\n",
      "Test Accuracy: 0.8518400192260742\n"
     ]
    }
   ],
   "source": [
    "test_loss, test_acc = model.evaluate(test_dataset)\n",
    "\n",
    "print('Test Loss: {}'.format(test_loss))\n",
    "print('Test Accuracy: {}'.format(test_acc))"
   ]
  },
  {
   "cell_type": "code",
   "execution_count": 22,
   "id": "2603e027",
   "metadata": {},
   "outputs": [
    {
     "data": {
      "text/plain": [
       "(0.0, 0.6776975005865097)"
      ]
     },
     "execution_count": 22,
     "metadata": {},
     "output_type": "execute_result"
    },
    {
     "data": {
      "image/png": "[encoded data removed]",
      "text/plain": [
       "<Figure size 1152x576 with 2 Axes>"
      ]
     },
     "metadata": {
      "needs_background": "light"
     },
     "output_type": "display_data"
    }
   ],
   "source": [
    "plt.figure(figsize=(16,8))\n",
    "plt.subplot(1,2,1)\n",
    "plot_graphs(history, 'accuracy')\n",
    "plt.ylim(None,1)\n",
    "plt.subplot(1,2,2)\n",
    "plot_graphs(history, 'loss')\n",
    "plt.ylim(0,None)"
   ]
  },
  {
   "cell_type": "code",
   "execution_count": 23,
   "id": "8eb3bca1",
   "metadata": {
    "scrolled": true
   },
   "outputs": [
    {
     "name": "stdout",
     "output_type": "stream",
     "text": [
      "Requirement already satisfied: adabelief-tf==0.2.0 in c:\\users\\91766\\anaconda3\\envs\\tensor\\lib\\site-packages (0.2.0)\n",
      "Requirement already satisfied: tabulate>=0.7 in c:\\users\\91766\\appdata\\roaming\\python\\python38\\site-packages (from adabelief-tf==0.2.0) (0.8.9)\n",
      "Requirement already satisfied: tensorflow>=2.0.0 in c:\\users\\91766\\anaconda3\\envs\\tensor\\lib\\site-packages (from adabelief-tf==0.2.0) (2.3.0)\n",
      "Requirement already satisfied: colorama>=0.4.0 in c:\\users\\91766\\anaconda3\\envs\\tensor\\lib\\site-packages (from adabelief-tf==0.2.0) (0.4.4)\n",
      "Requirement already satisfied: numpy<1.19.0,>=1.16.0 in c:\\users\\91766\\anaconda3\\envs\\tensor\\lib\\site-packages (from tensorflow>=2.0.0->adabelief-tf==0.2.0) (1.18.5)\n",
      "Requirement already satisfied: astunparse==1.6.3 in c:\\users\\91766\\anaconda3\\envs\\tensor\\lib\\site-packages (from tensorflow>=2.0.0->adabelief-tf==0.2.0) (1.6.3)\n",
      "Requirement already satisfied: wrapt>=1.11.1 in c:\\users\\91766\\anaconda3\\envs\\tensor\\lib\\site-packages (from tensorflow>=2.0.0->adabelief-tf==0.2.0) (1.12.1)\n",
      "Requirement already satisfied: h5py<2.11.0,>=2.10.0 in c:\\users\\91766\\anaconda3\\envs\\tensor\\lib\\site-packages (from tensorflow>=2.0.0->adabelief-tf==0.2.0) (2.10.0)\n",
      "Requirement already satisfied: gast==0.3.3 in c:\\users\\91766\\appdata\\roaming\\python\\python38\\site-packages (from tensorflow>=2.0.0->adabelief-tf==0.2.0) (0.3.3)\n",
      "Requirement already satisfied: protobuf>=3.9.2 in c:\\users\\91766\\anaconda3\\envs\\tensor\\lib\\site-packages (from tensorflow>=2.0.0->adabelief-tf==0.2.0) (3.14.0)\n",
      "Requirement already satisfied: wheel>=0.26 in c:\\users\\91766\\anaconda3\\envs\\tensor\\lib\\site-packages (from tensorflow>=2.0.0->adabelief-tf==0.2.0) (0.36.2)\n",
      "Requirement already satisfied: google-pasta>=0.1.8 in c:\\users\\91766\\anaconda3\\envs\\tensor\\lib\\site-packages (from tensorflow>=2.0.0->adabelief-tf==0.2.0) (0.2.0)\n",
      "Requirement already satisfied: grpcio>=1.8.6 in c:\\users\\91766\\anaconda3\\envs\\tensor\\lib\\site-packages (from tensorflow>=2.0.0->adabelief-tf==0.2.0) (1.36.1)\n",
      "Requirement already satisfied: tensorflow-estimator<2.4.0,>=2.3.0 in c:\\users\\91766\\anaconda3\\envs\\tensor\\lib\\site-packages (from tensorflow>=2.0.0->adabelief-tf==0.2.0) (2.3.0)\n",
      "Requirement already satisfied: opt-einsum>=2.3.2 in c:\\users\\91766\\anaconda3\\envs\\tensor\\lib\\site-packages (from tensorflow>=2.0.0->adabelief-tf==0.2.0) (3.1.0)\n",
      "Requirement already satisfied: scipy==1.4.1 in c:\\users\\91766\\appdata\\roaming\\python\\python38\\site-packages (from tensorflow>=2.0.0->adabelief-tf==0.2.0) (1.4.1)\n",
      "Requirement already satisfied: termcolor>=1.1.0 in c:\\users\\91766\\anaconda3\\envs\\tensor\\lib\\site-packages (from tensorflow>=2.0.0->adabelief-tf==0.2.0) (1.1.0)\n",
      "Requirement already satisfied: six>=1.12.0 in c:\\users\\91766\\anaconda3\\envs\\tensor\\lib\\site-packages (from tensorflow>=2.0.0->adabelief-tf==0.2.0) (1.15.0)\n",
      "Requirement already satisfied: absl-py>=0.7.0 in c:\\users\\91766\\anaconda3\\envs\\tensor\\lib\\site-packages (from tensorflow>=2.0.0->adabelief-tf==0.2.0) (0.12.0)\n",
      "Requirement already satisfied: keras-preprocessing<1.2,>=1.1.1 in c:\\users\\91766\\anaconda3\\envs\\tensor\\lib\\site-packages (from tensorflow>=2.0.0->adabelief-tf==0.2.0) (1.1.2)\n",
      "Requirement already satisfied: tensorboard<3,>=2.3.0 in c:\\users\\91766\\anaconda3\\envs\\tensor\\lib\\site-packages (from tensorflow>=2.0.0->adabelief-tf==0.2.0) (2.4.0)\n",
      "Requirement already satisfied: tensorboard-plugin-wit>=1.6.0 in c:\\users\\91766\\anaconda3\\envs\\tensor\\lib\\site-packages (from tensorboard<3,>=2.3.0->tensorflow>=2.0.0->adabelief-tf==0.2.0) (1.6.0)\n",
      "Requirement already satisfied: markdown>=2.6.8 in c:\\users\\91766\\anaconda3\\envs\\tensor\\lib\\site-packages (from tensorboard<3,>=2.3.0->tensorflow>=2.0.0->adabelief-tf==0.2.0) (3.3.4)\n",
      "Requirement already satisfied: setuptools>=41.0.0 in c:\\users\\91766\\anaconda3\\envs\\tensor\\lib\\site-packages (from tensorboard<3,>=2.3.0->tensorflow>=2.0.0->adabelief-tf==0.2.0) (52.0.0.post20210125)\n",
      "Requirement already satisfied: google-auth<2,>=1.6.3 in c:\\users\\91766\\anaconda3\\envs\\tensor\\lib\\site-packages (from tensorboard<3,>=2.3.0->tensorflow>=2.0.0->adabelief-tf==0.2.0) (1.28.0)\n",
      "Requirement already satisfied: werkzeug>=0.11.15 in c:\\users\\91766\\anaconda3\\envs\\tensor\\lib\\site-packages (from tensorboard<3,>=2.3.0->tensorflow>=2.0.0->adabelief-tf==0.2.0) (1.0.1)\n",
      "Requirement already satisfied: google-auth-oauthlib<0.5,>=0.4.1 in c:\\users\\91766\\anaconda3\\envs\\tensor\\lib\\site-packages (from tensorboard<3,>=2.3.0->tensorflow>=2.0.0->adabelief-tf==0.2.0) (0.4.4)\n",
      "Requirement already satisfied: requests<3,>=2.21.0 in c:\\users\\91766\\anaconda3\\envs\\tensor\\lib\\site-packages (from tensorboard<3,>=2.3.0->tensorflow>=2.0.0->adabelief-tf==0.2.0) (2.25.1)\n",
      "Requirement already satisfied: pyasn1-modules>=0.2.1 in c:\\users\\91766\\anaconda3\\envs\\tensor\\lib\\site-packages (from google-auth<2,>=1.6.3->tensorboard<3,>=2.3.0->tensorflow>=2.0.0->adabelief-tf==0.2.0) (0.2.8)\n",
      "Requirement already satisfied: rsa<5,>=3.1.4 in c:\\users\\91766\\anaconda3\\envs\\tensor\\lib\\site-packages (from google-auth<2,>=1.6.3->tensorboard<3,>=2.3.0->tensorflow>=2.0.0->adabelief-tf==0.2.0) (4.7.2)\n",
      "Requirement already satisfied: cachetools<5.0,>=2.0.0 in c:\\users\\91766\\anaconda3\\envs\\tensor\\lib\\site-packages (from google-auth<2,>=1.6.3->tensorboard<3,>=2.3.0->tensorflow>=2.0.0->adabelief-tf==0.2.0) (4.2.1)\n",
      "Requirement already satisfied: requests-oauthlib>=0.7.0 in c:\\users\\91766\\anaconda3\\envs\\tensor\\lib\\site-packages (from google-auth-oauthlib<0.5,>=0.4.1->tensorboard<3,>=2.3.0->tensorflow>=2.0.0->adabelief-tf==0.2.0) (1.3.0)\n",
      "Requirement already satisfied: pyasn1<0.5.0,>=0.4.6 in c:\\users\\91766\\anaconda3\\envs\\tensor\\lib\\site-packages (from pyasn1-modules>=0.2.1->google-auth<2,>=1.6.3->tensorboard<3,>=2.3.0->tensorflow>=2.0.0->adabelief-tf==0.2.0) (0.4.8)\n",
      "Requirement already satisfied: idna<3,>=2.5 in c:\\users\\91766\\anaconda3\\envs\\tensor\\lib\\site-packages (from requests<3,>=2.21.0->tensorboard<3,>=2.3.0->tensorflow>=2.0.0->adabelief-tf==0.2.0) (2.10)\n",
      "Requirement already satisfied: certifi>=2017.4.17 in c:\\users\\91766\\anaconda3\\envs\\tensor\\lib\\site-packages (from requests<3,>=2.21.0->tensorboard<3,>=2.3.0->tensorflow>=2.0.0->adabelief-tf==0.2.0) (2020.12.5)\n",
      "Requirement already satisfied: urllib3<1.27,>=1.21.1 in c:\\users\\91766\\anaconda3\\envs\\tensor\\lib\\site-packages (from requests<3,>=2.21.0->tensorboard<3,>=2.3.0->tensorflow>=2.0.0->adabelief-tf==0.2.0) (1.26.4)\n",
      "Requirement already satisfied: chardet<5,>=3.0.2 in c:\\users\\91766\\anaconda3\\envs\\tensor\\lib\\site-packages (from requests<3,>=2.21.0->tensorboard<3,>=2.3.0->tensorflow>=2.0.0->adabelief-tf==0.2.0) (3.0.4)\n",
      "Requirement already satisfied: oauthlib>=3.0.0 in c:\\users\\91766\\anaconda3\\envs\\tensor\\lib\\site-packages (from requests-oauthlib>=0.7.0->google-auth-oauthlib<0.5,>=0.4.1->tensorboard<3,>=2.3.0->tensorflow>=2.0.0->adabelief-tf==0.2.0) (3.1.0)\n"
     ]
    }
   ],
   "source": [
    "!pip install adabelief-tf==0.2.0 "
   ]
  },
  {
   "cell_type": "code",
   "execution_count": 24,
   "id": "46d372e3",
   "metadata": {},
   "outputs": [],
   "source": [
    "from adabelief_tf import AdaBeliefOptimizer"
   ]
  },
  {
   "cell_type": "code",
   "execution_count": 30,
   "id": "38f67b51",
   "metadata": {},
   "outputs": [
    {
     "name": "stdout",
     "output_type": "stream",
     "text": [
      "\u001b[31mPlease check your arguments if you have upgraded adabelief-tf from version 0.0.1.\n",
      "\u001b[31mModifications to default arguments:\n",
      "\u001b[31m                           eps  weight_decouple    rectify\n",
      "-----------------------  -----  -----------------  -------------\n",
      "adabelief-tf=0.0.1       1e-08  Not supported      Not supported\n",
      ">=0.1.0 (Current 0.2.0)  1e-14  supported          default: True\n",
      "\u001b[34mSGD better than Adam (e.g. CNN for Image Classification)    Adam better than SGD (e.g. Transformer, GAN)\n",
      "----------------------------------------------------------  ----------------------------------------------\n",
      "Recommended epsilon = 1e-7                                  Recommended epsilon = 1e-14\n",
      "\u001b[34mFor a complete table of recommended hyperparameters, see\n",
      "\u001b[34mhttps://github.com/juntang-zhuang/Adabelief-Optimizer\n",
      "\u001b[32mYou can disable the log message by setting \"print_change_log = False\", though it is recommended to keep as a reminder.\n",
      "\u001b[0m\n",
      "Epoch 1/10\n",
      "391/391 [==============================] - 34s 88ms/step - loss: 0.6270 - accuracy: 0.6037 - val_loss: 0.4924 - val_accuracy: 0.7802\n",
      "Epoch 2/10\n",
      "391/391 [==============================] - 31s 79ms/step - loss: 0.3938 - accuracy: 0.8202 - val_loss: 0.3586 - val_accuracy: 0.8396\n",
      "Epoch 3/10\n",
      "391/391 [==============================] - 31s 80ms/step - loss: 0.3448 - accuracy: 0.8483 - val_loss: 0.3390 - val_accuracy: 0.8516\n",
      "Epoch 4/10\n",
      "391/391 [==============================] - 31s 80ms/step - loss: 0.3252 - accuracy: 0.8593 - val_loss: 0.3323 - val_accuracy: 0.8427\n",
      "Epoch 5/10\n",
      "391/391 [==============================] - 31s 79ms/step - loss: 0.3182 - accuracy: 0.8621 - val_loss: 0.3241 - val_accuracy: 0.8552\n",
      "Epoch 6/10\n",
      "391/391 [==============================] - 31s 80ms/step - loss: 0.3118 - accuracy: 0.8648 - val_loss: 0.3217 - val_accuracy: 0.8557\n",
      "Epoch 7/10\n",
      "391/391 [==============================] - 31s 79ms/step - loss: 0.3093 - accuracy: 0.8674 - val_loss: 0.3196 - val_accuracy: 0.8542\n",
      "Epoch 8/10\n",
      "391/391 [==============================] - 31s 80ms/step - loss: 0.3062 - accuracy: 0.8687 - val_loss: 0.3283 - val_accuracy: 0.8620\n",
      "Epoch 9/10\n",
      "391/391 [==============================] - 31s 80ms/step - loss: 0.3029 - accuracy: 0.8705 - val_loss: 0.3223 - val_accuracy: 0.8583\n",
      "Epoch 10/10\n",
      "391/391 [==============================] - 31s 80ms/step - loss: 0.3020 - accuracy: 0.8712 - val_loss: 0.3187 - val_accuracy: 0.8615\n",
      "391/391 [==============================] - 14s 35ms/step - loss: 0.3180 - accuracy: 0.8631\n",
      "Test Loss: 0.3179660439491272\n",
      "Test Accuracy: 0.8631200194358826\n"
     ]
    }
   ],
   "source": [
    "model = tf.keras.Sequential([\n",
    "    encoder,\n",
    "    tf.keras.layers.Embedding(\n",
    "        input_dim=len(encoder.get_vocabulary()),\n",
    "        output_dim=64,\n",
    "        # Use masking to handle the variable sequence lengths\n",
    "        mask_zero=True),\n",
    "    tf.keras.layers.Bidirectional(tf.keras.layers.LSTM(64)),\n",
    "    tf.keras.layers.Dense(64, activation='relu'),\n",
    "    tf.keras.layers.Dense(1)\n",
    "])\n",
    "\n",
    "model.compile(loss=tf.keras.losses.BinaryCrossentropy(from_logits=True),\n",
    "              optimizer=AdaBeliefOptimizer(1e-4,rectify=False), # This time, we use the AdaBelief optimizer!\n",
    "              metrics=['accuracy'])\n",
    "\n",
    "history = model.fit(train_dataset, epochs=10,\n",
    "                    validation_data=test_dataset, \n",
    "                    validation_steps=30)\n",
    "\n",
    "test_loss, test_acc = model.evaluate(test_dataset)\n",
    "\n",
    "print('Test Loss: {}'.format(test_loss))\n",
    "print('Test Accuracy: {}'.format(test_acc))"
   ]
  },
  {
   "cell_type": "code",
   "execution_count": 33,
   "id": "f4f5ef45",
   "metadata": {},
   "outputs": [
    {
     "data": {
      "text/plain": [
       "(0.0, 0.6432123333215714)"
      ]
     },
     "execution_count": 33,
     "metadata": {},
     "output_type": "execute_result"
    },
    {
     "data": {
      "image/png": "[encoded data removed]",
      "text/plain": [
       "<Figure size 1152x576 with 2 Axes>"
      ]
     },
     "metadata": {
      "needs_background": "light"
     },
     "output_type": "display_data"
    }
   ],
   "source": [
    "plt.figure(figsize=(16,8))\n",
    "plt.subplot(1,2,1)\n",
    "plot_graphs(history, 'accuracy')\n",
    "plt.ylim(None,1)\n",
    "plt.subplot(1,2,2)\n",
    "plot_graphs(history, 'loss')\n",
    "plt.ylim(0,None)\n",
    "# For the same number of epochs, the AdaBelief optimizer gives better validation accuracy and loss at the end of 10 epochs!"
   ]
  }
 ],
 "metadata": {
  "kernelspec": {
   "display_name": "Python 3",
   "language": "python",
   "name": "python3"
  },
  "language_info": {
   "codemirror_mode": {
    "name": "ipython",
    "version": 3
   },
   "file_extension": ".py",
   "mimetype": "text/x-python",
   "name": "python",
   "nbconvert_exporter": "python",
   "pygments_lexer": "ipython3",
   "version": "3.8.8"
  }
 },
 "nbformat": 4,
 "nbformat_minor": 5
}
